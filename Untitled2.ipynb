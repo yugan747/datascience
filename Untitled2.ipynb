{
 "cells": [
  {
   "cell_type": "code",
   "execution_count": 145,
   "id": "99a77cd8",
   "metadata": {},
   "outputs": [],
   "source": [
    "import pandas as pd \n",
    "import numpy as np\n",
    "import re\n",
    "\n",
    "  \n",
    "df = pd.read_csv('crimes.csv', delimiter=None)\n",
    "\n"
   ]
  },
  {
   "cell_type": "code",
   "execution_count": 44,
   "id": "d4b30b9f",
   "metadata": {},
   "outputs": [],
   "source": [
    "\n",
    "\n",
    "#formatted_data = df['Rape']\n",
    "#five_years_average_drop=df[df['Fiscal Year'].astype(str)=='5-years average']\n",
    "\n",
    "#print(formatted_data)\n",
    "\n"
   ]
  },
  {
   "cell_type": "code",
   "execution_count": 146,
   "id": "6eb7bdbf",
   "metadata": {},
   "outputs": [],
   "source": [
    "#formatted_data=df[df['Fiscal Year'].str.contains('average')]\n",
    "#df = drop(columns=formatted_data)\n",
    "\n"
   ]
  },
  {
   "cell_type": "code",
   "execution_count": 144,
   "id": "48b7df5f",
   "metadata": {},
   "outputs": [
    {
     "name": "stdout",
     "output_type": "stream",
     "text": [
      "   Fiscal Year  Rape  Attempt rape  Trafficking  Abortion  Polygamy  \\\n",
      "0      1996/97   112            34          117        74       101   \n",
      "1      1997/98   181            34          130       101       135   \n",
      "2      1998/99   141            18          110        81        96   \n",
      "3    1999/2000   186            33          120        89        96   \n",
      "4      2000/01   122            35           92        55        75   \n",
      "6      2001/02   129            21           40        14        51   \n",
      "7      2002/03   157            18           55        15        69   \n",
      "8      2003/04   154            19           56         8        44   \n",
      "9      2004/05   188            25           72        11        66   \n",
      "10     2005/06   195            38           97        14        65   \n",
      "12     2006/07   317            70          112         3        94   \n",
      "13     2007/08   309            73          123        13       122   \n",
      "14     2008/09   391            75          139        12       170   \n",
      "15     2009/10   376           101          161         8       146   \n",
      "16    2010/11*   233            68           74         8        96   \n",
      "\n",
      "    Child marriage Domestic violence  Total  index  ...                      \\\n",
      "0                5               337    780     19  ... NaN NaN NaN NaN NaN   \n",
      "1                3               228    812     19  ... NaN NaN NaN NaN NaN   \n",
      "2                1               432    879     19  ... NaN NaN NaN NaN NaN   \n",
      "3                5               711  1,240     19  ... NaN NaN NaN NaN NaN   \n",
      "4                1               449    829     20  ... NaN NaN NaN NaN NaN   \n",
      "6                0               410    665     20  ... NaN NaN NaN NaN NaN   \n",
      "7                2               569    885     20  ... NaN NaN NaN NaN NaN   \n",
      "8                3               922  1,206     20  ... NaN NaN NaN NaN NaN   \n",
      "9                1               730  1,093     20  ... NaN NaN NaN NaN NaN   \n",
      "10               1               939  1,349     20  ... NaN NaN NaN NaN NaN   \n",
      "12               7             1,100  1,703     20  ... NaN NaN NaN NaN NaN   \n",
      "13               4               881  1,525     20  ... NaN NaN NaN NaN NaN   \n",
      "14               2               968  1,757     20  ... NaN NaN NaN NaN NaN   \n",
      "15               7               983  1,782     20  ... NaN NaN NaN NaN NaN   \n",
      "16               2               662  1,143     20  ... NaN NaN NaN NaN NaN   \n",
      "\n",
      "                        \n",
      "0  NaN NaN NaN NaN NaN  \n",
      "1  NaN NaN NaN NaN NaN  \n",
      "2  NaN NaN NaN NaN NaN  \n",
      "3  NaN NaN NaN NaN NaN  \n",
      "4  NaN NaN NaN NaN NaN  \n",
      "6  NaN NaN NaN NaN NaN  \n",
      "7  NaN NaN NaN NaN NaN  \n",
      "8  NaN NaN NaN NaN NaN  \n",
      "9  NaN NaN NaN NaN NaN  \n",
      "10 NaN NaN NaN NaN NaN  \n",
      "12 NaN NaN NaN NaN NaN  \n",
      "13 NaN NaN NaN NaN NaN  \n",
      "14 NaN NaN NaN NaN NaN  \n",
      "15 NaN NaN NaN NaN NaN  \n",
      "16 NaN NaN NaN NaN NaN  \n",
      "\n",
      "[15 rows x 25 columns]\n"
     ]
    }
   ],
   "source": [
    "df['index'] = df['Fiscal Year'].str[0:2].values\n",
    "df['index']=df['index'].astype('int32')\n",
    "print(df)\n"
   ]
  },
  {
   "cell_type": "code",
   "execution_count": null,
   "id": "20b194ca",
   "metadata": {},
   "outputs": [],
   "source": []
  },
  {
   "cell_type": "code",
   "execution_count": null,
   "id": "2bc979fb",
   "metadata": {},
   "outputs": [],
   "source": []
  },
  {
   "cell_type": "code",
   "execution_count": null,
   "id": "489a73d3",
   "metadata": {},
   "outputs": [],
   "source": []
  }
 ],
 "metadata": {
  "kernelspec": {
   "display_name": "Python 3 (ipykernel)",
   "language": "python",
   "name": "python3"
  },
  "language_info": {
   "codemirror_mode": {
    "name": "ipython",
    "version": 3
   },
   "file_extension": ".py",
   "mimetype": "text/x-python",
   "name": "python",
   "nbconvert_exporter": "python",
   "pygments_lexer": "ipython3",
   "version": "3.9.12"
  }
 },
 "nbformat": 4,
 "nbformat_minor": 5
}
