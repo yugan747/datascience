{
 "cells": [
  {
   "cell_type": "code",
   "execution_count": null,
   "id": "4ba5f271",
   "metadata": {
    "scrolled": true
   },
   "outputs": [],
   "source": [
    "import pandas as pd \n",
    "import numpy as np\n",
    "df = pd.read_csv('crimes.csv')\n",
    "data = len(df.index)\n",
    "\n",
    "df['total_rape_attempts']=df['Rape']+df['Attempt rape']\n",
    "df['sucessful_attempts_percentage']=(df['Rape']/df['total_rape_attempts'])*100\n",
    "print(df)\n",
    "\n",
    "\n",
    "df['index']=''\n",
    "i=0\n",
    "while i<=5 :\n",
    "    \n",
    "    df.at[i,'index']=1\n",
    "   \n",
    "    \n",
    "    \n",
    "#calculate_rows =df[df['Fiscal Year'].str.contains(pat = '96',case=True, regex=False)]\n",
    "#calculate_rows['Index_year']=int(1)\n",
    "#df['Index']=calculate_rows['Index_year']\n",
    " print(df)"
   ]
  },
  {
   "cell_type": "code",
   "execution_count": null,
   "id": "f76ed1e7",
   "metadata": {},
   "outputs": [],
   "source": []
  },
  {
   "cell_type": "code",
   "execution_count": null,
   "id": "385769c3",
   "metadata": {},
   "outputs": [],
   "source": []
  },
  {
   "cell_type": "code",
   "execution_count": null,
   "id": "df50cf72",
   "metadata": {},
   "outputs": [],
   "source": []
  },
  {
   "cell_type": "code",
   "execution_count": null,
   "id": "f76ee26b",
   "metadata": {},
   "outputs": [],
   "source": []
  },
  {
   "cell_type": "code",
   "execution_count": null,
   "id": "c0639af6",
   "metadata": {},
   "outputs": [],
   "source": []
  },
  {
   "cell_type": "code",
   "execution_count": null,
   "id": "a66d967e",
   "metadata": {},
   "outputs": [],
   "source": []
  },
  {
   "cell_type": "code",
   "execution_count": null,
   "id": "6842fdd0",
   "metadata": {},
   "outputs": [],
   "source": []
  },
  {
   "cell_type": "code",
   "execution_count": null,
   "id": "e1d19981",
   "metadata": {},
   "outputs": [],
   "source": []
  },
  {
   "cell_type": "code",
   "execution_count": null,
   "id": "8b884812",
   "metadata": {},
   "outputs": [],
   "source": []
  }
 ],
 "metadata": {
  "kernelspec": {
   "display_name": "Python 3 (ipykernel)",
   "language": "python",
   "name": "python3"
  },
  "language_info": {
   "codemirror_mode": {
    "name": "ipython",
    "version": 3
   },
   "file_extension": ".py",
   "mimetype": "text/x-python",
   "name": "python",
   "nbconvert_exporter": "python",
   "pygments_lexer": "ipython3",
   "version": "3.9.12"
  }
 },
 "nbformat": 4,
 "nbformat_minor": 5
}
